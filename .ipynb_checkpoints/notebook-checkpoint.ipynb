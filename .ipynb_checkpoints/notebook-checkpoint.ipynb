{
 "cells": [
  {
   "cell_type": "code",
   "execution_count": null,
   "metadata": {},
   "outputs": [],
   "source": [
    "import numpy as np\n",
    "from helpers import poprawnoscWyniku,podzialNaCzesci\n",
    "import matplotlib.pyplot as plt\n",
    "from skimage.io import imread\n",
    "from skimage import exposure\n",
    "from skimage.filters import roberts, sobel, scharr, prewitt\n",
    "from skimage.morphology import erosion, dilation, opening, closing, white_tophat\n",
    "from skimage.morphology import black_tophat, skeletonize, convex_hull_image\n",
    "from skimage.morphology import disk\n",
    "%matplotlib inline \n",
    "\n",
    "    \n",
    "    \n",
    "def toGrey(image,whichChannel):\n",
    "    result=[]\n",
    "    for i in range(len(image)):\n",
    "        segment=[]\n",
    "        for j in range(len(image[whichChannel])):\n",
    "            segment.append(image[i][j][whichChannel]/255)\n",
    "        result.append(segment)\n",
    "    return result\n",
    "\n",
    "def threshhold(image,number):\n",
    "    result=[]\n",
    "    for i in image:\n",
    "        segment=[]\n",
    "        for j in i:\n",
    "            if j<number:\n",
    "                segment.append(0)\n",
    "            else:\n",
    "                segment.append(j)\n",
    "        result.append(segment)\n",
    "    return result\n",
    "\n",
    "def inverse(image):\n",
    "    result=[]\n",
    "    for i in image:\n",
    "        segment=[]\n",
    "        for j in i:\n",
    "            segment.append(-j+1)\n",
    "        result.append(segment)\n",
    "    return result\n",
    "\n",
    "image=imread(\"images/01_h.jpg\")\n",
    "image=toGrey(image,1)\n",
    "image=np.array(image)\n",
    "\n",
    "plt.imshow(image)\n",
    "plt.show()\n",
    "\n",
    "# Adaptive Equalization\n",
    "img = exposure.equalize_adapthist(image, clip_limit=0.01)\n",
    "plt.imshow(img)\n",
    "plt.show()\n",
    "img_adapteq=threshhold(img,0.2)\n",
    "plt.imshow(img)\n",
    "plt.show()\n",
    "img=inverse(img)\n",
    "plt.imshow(img)\n",
    "plt.show()\n",
    "img=np.array(img)\n",
    "img=erosion(img)\n",
    "plt.imshow(img)\n",
    "plt.show()\n",
    "img=dilation(img)\n",
    "plt.imshow(img)\n",
    "plt.show()\n",
    "edge_sobel = sobel(img)\n",
    "plt.imshow(edge_sobel)\n",
    "plt.show()\n",
    "\n",
    "\n"
   ]
  },
  {
   "cell_type": "code",
   "execution_count": 8,
   "metadata": {},
   "outputs": [
    {
     "name": "stdout",
     "output_type": "stream",
     "text": [
      "(512, 512)\n"
     ]
    }
   ],
   "source": [
    "from skimage import data, img_as_float\n",
    "# Load an example image\n",
    "img = data.moon()\n",
    "\n",
    "# Contrast stretching\n",
    "p2, p98 = np.percentile(img, (2, 98))\n",
    "img_rescale = exposure.rescale_intensity(img, in_range=(p2, p98))\n",
    "\n",
    "# Equalization\n",
    "img_eq = exposure.equalize_hist(img)\n",
    "\n",
    "# Adaptive Equalization\n",
    "img_adapteq = exposure.equalize_adapthist(img, clip_limit=0.03)\n",
    "\n",
    "print(img.shape)"
   ]
  },
  {
   "cell_type": "code",
   "execution_count": null,
   "metadata": {},
   "outputs": [],
   "source": []
  }
 ],
 "metadata": {
  "kernelspec": {
   "display_name": "Python 3",
   "language": "python",
   "name": "python3"
  },
  "language_info": {
   "codemirror_mode": {
    "name": "ipython",
    "version": 3
   },
   "file_extension": ".py",
   "mimetype": "text/x-python",
   "name": "python",
   "nbconvert_exporter": "python",
   "pygments_lexer": "ipython3",
   "version": "3.5.2"
  }
 },
 "nbformat": 4,
 "nbformat_minor": 1
}
