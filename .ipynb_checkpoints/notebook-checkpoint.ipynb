{
 "cells": [
  {
   "cell_type": "code",
   "execution_count": null,
   "metadata": {
    "collapsed": true
   },
   "outputs": [],
   "source": [
    "import matplotlib.pyplot as plt\n",
    "from skimage.io import imread\n",
    "%matplotlib inline \n",
    "\n",
    "def diaplyAll(image, sinogram, reconstruction_fbp, normal):\n",
    "    fig, axes = plt.subplots(2, 2, figsize=(8, 8))\n",
    "    imkwargs = dict(vmin=-0.2, vmax=0.2)\n",
    "    axes[0, 0].set_title(\"Original\")\n",
    "    axes[0, 0].imshow(image, cmap=plt.cm.Greys_r)\n",
    "\n",
    "    axes[0, 1].set_title(\"Radon transform\\n(Sinogram)\")\n",
    "    axes[0, 1].set_xlabel(\"Projection angle (deg)\")\n",
    "    axes[0, 1].set_ylabel(\"Projection position (pixels)\")\n",
    "    axes[0, 1].imshow(sinogram, cmap=plt.cm.Greys_r,\n",
    "                      extent=(0, 180, 0, sinogram.shape[0]), aspect='auto')\n",
    "\n",
    "    axes[1, 0].set_title(\"Reconstruction\\nFiltered back projection\")\n",
    "    axes[1, 0].imshow(reconstruction_fbp, cmap=plt.cm.Greys_r)\n",
    "    axes[1, 1].set_title(\"Reconstruction error\\nFiltered back projection\")\n",
    "    axes[1, 1].imshow(normal, cmap=plt.cm.Greys_r)\n",
    "    fig.tight_layout()\n",
    "    plt.show()\n",
    "    \n",
    "    "
   ]
  }
 ],
 "metadata": {
  "kernelspec": {
   "display_name": "Python 3",
   "language": "python",
   "name": "python3"
  },
  "language_info": {
   "codemirror_mode": {
    "name": "ipython",
    "version": 2
   },
   "file_extension": ".py",
   "mimetype": "text/x-python",
   "name": "python",
   "nbconvert_exporter": "python",
   "pygments_lexer": "ipython2",
   "version": "2.7.6"
  }
 },
 "nbformat": 4,
 "nbformat_minor": 1
}
